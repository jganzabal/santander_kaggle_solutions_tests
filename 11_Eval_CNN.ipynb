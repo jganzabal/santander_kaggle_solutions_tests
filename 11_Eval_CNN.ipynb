{
 "cells": [
  {
   "cell_type": "code",
   "execution_count": 1,
   "metadata": {},
   "outputs": [],
   "source": [
    "%load_ext autoreload\n",
    "%autoreload 2"
   ]
  },
  {
   "cell_type": "code",
   "execution_count": 2,
   "metadata": {},
   "outputs": [
    {
     "name": "stderr",
     "output_type": "stream",
     "text": [
      "Using TensorFlow backend.\n"
     ]
    }
   ],
   "source": [
    "from keras.models import Model, Sequential\n",
    "from keras.layers import Input, Dense, Concatenate, BatchNormalization, Activation, Conv1D, Flatten, Dropout\n",
    "from keras.optimizers import Adam\n",
    "import pandas as pd\n",
    "import numpy as np\n",
    "from sklearn.metrics import roc_auc_score\n",
    "from keras.callbacks import EarlyStopping, ModelCheckpoint\n",
    "from keras.layers.advanced_activations import LeakyReLU, PReLU, ELU\n",
    "import tensorflow as tf\n",
    "import keras\n",
    "from sklearn.model_selection import KFold, StratifiedKFold"
   ]
  },
  {
   "cell_type": "code",
   "execution_count": 3,
   "metadata": {},
   "outputs": [],
   "source": [
    "def auc(y_true, y_pred):\n",
    "    f1 = lambda: tf.constant(0, dtype=tf.float64)\n",
    "    f2 = lambda: tf.py_func(roc_auc_score, (y_true, y_pred), tf.double)\n",
    "    \n",
    "    r = tf.case([(tf.equal(tf.reduce_sum(y_true), tf.constant(0, dtype=tf.float32)), f1),\n",
    "                 (tf.equal(tf.reduce_sum(tf.subtract(tf.ones_like(y_true), y_true)), tf.constant(0, dtype=tf.float32)), f1)\n",
    "                ], default=f2)\n",
    "    return r"
   ]
  },
  {
   "cell_type": "code",
   "execution_count": 4,
   "metadata": {},
   "outputs": [],
   "source": [
    "df_train = pd.read_csv('train_with_counts.csv')\n",
    "df_test = pd.read_csv('test_with_counts.csv').drop(columns=['ID_code', 'target'])\n",
    "y = df_train['target'].values\n",
    "df_train_X = df_train.drop(columns=['ID_code', 'target'])"
   ]
  },
  {
   "cell_type": "code",
   "execution_count": 11,
   "metadata": {},
   "outputs": [],
   "source": [
    "reverse_columns = True\n",
    "if reverse_columns:\n",
    "    reverse_list = [0, 1, 2, 3, 4, 5, 6, 7, 8, 11, 15, 16, 18, 19, 22, 24, 25, 26,\n",
    "                    27, 29, 32, 35, 37, 40, 41, 47, 48, 49, 51, 52, 53, 55, 60, 61,\n",
    "                    62, 65, 66, 67, 69, 70, 71, 74, 78, 79, 82, 84, 89, 90, 91, 94,\n",
    "                    95, 96, 97, 99, 103, 105, 106, 110, 111, 112, 118, 119, 125, 128,\n",
    "                    130, 133, 134, 135, 137, 138, 140, 144, 145, 147, 151, 155, 157,\n",
    "                    159, 161, 162, 163, 164, 167, 168, 170, 171, 173, 175, 176, 179,\n",
    "                    180, 181, 184, 185, 187, 189, 190, 191, 195, 196, 199,\n",
    "\n",
    "                    ]\n",
    "\n",
    "    for j in reverse_list:\n",
    "        df_train_X[f'var_{j}'] *= -1\n",
    "        df_test[f'var_{j}'] *= -1"
   ]
  },
  {
   "cell_type": "code",
   "execution_count": 12,
   "metadata": {},
   "outputs": [],
   "source": [
    "df_train_X_normalized = (df_train_X - df_train_X.mean(axis=0))/df_train_X.std(axis=0)\n",
    "df_test_X_normalized = (df_test - df_test.mean(axis=0))/df_test.std(axis=0)"
   ]
  },
  {
   "cell_type": "code",
   "execution_count": 13,
   "metadata": {},
   "outputs": [],
   "source": [
    "X_train_normalized = np.zeros((df_train_X_normalized.shape[0], 400, 1))\n",
    "X_test_normalized = np.zeros((df_test_X_normalized.shape[0], 400, 1))\n",
    "for i in range(200):\n",
    "    X_train_normalized[:, 2*i] = df_train_X_normalized[[f'var_{i}']].values\n",
    "    X_train_normalized[:, 2*i+1] = df_train_X_normalized[[f'var_{i}_FE']].values\n",
    "    X_test_normalized[:, 2*i] = df_test_X_normalized[[f'var_{i}']].values\n",
    "    X_test_normalized[:, 2*i+1] = df_test_X_normalized[[f'var_{i}_FE']].values\n",
    "    \n",
    "    # X_train_normalized[:, 3*i+2] = df_train_X_normalized[[f'var_{i}']].values**2"
   ]
  },
  {
   "cell_type": "code",
   "execution_count": 14,
   "metadata": {},
   "outputs": [],
   "source": [
    "def get_model():\n",
    "    model = Sequential()\n",
    "    model.add(Conv1D(200, kernel_size=2, strides=2, padding='valid', activation='relu', input_shape=(400, 1)))\n",
    "    # model.add(Dense(1, activation='relu'))\n",
    "    model.add(Flatten())\n",
    "    model.add(Dense(1, activation='sigmoid'))\n",
    "    return model"
   ]
  },
  {
   "cell_type": "code",
   "execution_count": 15,
   "metadata": {},
   "outputs": [],
   "source": [
    "def get_model(N_units = 600):\n",
    "    model = Sequential()\n",
    "    model.add(Conv1D(N_units, kernel_size=2, strides=2, padding='valid', activation='relu', input_shape=(X_train_normalized.shape[1], 1)))\n",
    "    # model.add(BatchNormalization())\n",
    "    # model.add(Dense(1, activation='relu'))\n",
    "    model.add(Flatten())\n",
    "    # model.add(Dense(10, activation='linear'))\n",
    "    # model.add(Activation('relu'))\n",
    "    # model.add(Dropout(0.2))\n",
    "    # model.add(BatchNormalization())\n",
    "    model.add(Dense(1, activation='sigmoid'))\n",
    "    return model"
   ]
  },
  {
   "cell_type": "code",
   "execution_count": 16,
   "metadata": {},
   "outputs": [
    {
     "name": "stdout",
     "output_type": "stream",
     "text": [
      "###############################################\n",
      "##################Fold 0#######################\n",
      "###############################################\n",
      "40001/40001 [==============================] - 3s 70us/step\n",
      "0.9218206789901968\n",
      "200000/200000 [==============================] - 14s 69us/step\n",
      "###############################################\n",
      "##################Fold 1#######################\n",
      "###############################################\n",
      "40001/40001 [==============================] - 2s 55us/step\n",
      "0.9207179998675364\n",
      "200000/200000 [==============================] - 13s 67us/step\n",
      "###############################################\n",
      "##################Fold 2#######################\n",
      "###############################################\n",
      "40000/40000 [==============================] - 2s 60us/step\n",
      "0.9270332606008312\n",
      "200000/200000 [==============================] - 14s 68us/step\n",
      "###############################################\n",
      "##################Fold 3#######################\n",
      "###############################################\n",
      "39999/39999 [==============================] - 3s 69us/step\n",
      "0.9238785896231365\n",
      "200000/200000 [==============================] - 14s 69us/step\n",
      "###############################################\n",
      "##################Fold 4#######################\n",
      "###############################################\n",
      "39999/39999 [==============================] - 3s 64us/step\n",
      "0.9197538830632318\n",
      "200000/200000 [==============================] - 14s 69us/step\n"
     ]
    }
   ],
   "source": [
    "skf = StratifiedKFold(n_splits=5, shuffle=True, random_state=42)\n",
    "full_val_preds = np.zeros((len(df_train_X_normalized), 1))\n",
    "N_units = 600\n",
    "model = get_model(N_units)\n",
    "test_predictions = 0\n",
    "class_1_aug = 4\n",
    "class_0_aug = 4\n",
    "for fold, (trn_idx, val_idx) in enumerate(skf.split(df_train_X_normalized, y)):\n",
    "    print('###############################################')\n",
    "    print(f'##################Fold {fold}#######################')\n",
    "    print('###############################################')\n",
    "    X_train = X_train_normalized[trn_idx]\n",
    "    X_val = X_train_normalized[val_idx]\n",
    "    # big_CNN_fold_0_lr_0.0001\n",
    "#     model.load_weights(f'pseudo_CNN_fold_{fold}.hdf5')\n",
    "#     model.load_weights(f'CNN_generator_fold_aug_{fold}_cl1_4_cl0_2.hdf5')\n",
    "    model.load_weights(f'models/CNN_generator_fold_{fold}_cl1_{class_1_aug}_cl0_{class_0_aug}_{N_units}_rev.hdf5')\n",
    "#     model.load_weights(f'big_CNN_fold_{fold}_lr_0.0001.hdf5')\n",
    "    full_val_preds[val_idx] = model.predict(X_val, verbose=1)\n",
    "    print(roc_auc_score(y[val_idx], full_val_preds[val_idx]))\n",
    "    test_predictions = test_predictions + model.predict(X_test_normalized, verbose=1)/5"
   ]
  },
  {
   "cell_type": "code",
   "execution_count": 17,
   "metadata": {},
   "outputs": [
    {
     "data": {
      "text/plain": [
       "0.922492334392529"
      ]
     },
     "execution_count": 17,
     "metadata": {},
     "output_type": "execute_result"
    }
   ],
   "source": [
    "# Full Roc auc\n",
    "roc_auc_score(y, full_val_preds)\n",
    "# big_NN_fold relu 0.9181618815898285\n",
    "# big_NN_2_fold 0.9187180131725702\n",
    "# CNN_fold_ 0.9191933543435744\n",
    "# 0.9215912941584403\n",
    "# 0.9212856674339405\n",
    "# 0.9220253812925263 l1 0.0002\n",
    "# 0.9221659100034848 l1 0.0001 4 2\n",
    "# 0.9212096887163275 inverting\n",
    "# 0.9219302035074107\n",
    "# 0.9219023006598193"
   ]
  },
  {
   "cell_type": "code",
   "execution_count": 24,
   "metadata": {},
   "outputs": [
    {
     "data": {
      "text/plain": [
       "'2.2.0'"
      ]
     },
     "execution_count": 24,
     "metadata": {},
     "output_type": "execute_result"
    }
   ],
   "source": [
    "keras.__version__"
   ]
  },
  {
   "cell_type": "code",
   "execution_count": 25,
   "metadata": {},
   "outputs": [
    {
     "data": {
      "text/plain": [
       "'1.9.0'"
      ]
     },
     "execution_count": 25,
     "metadata": {},
     "output_type": "execute_result"
    }
   ],
   "source": [
    "tf.__version__"
   ]
  },
  {
   "cell_type": "code",
   "execution_count": 18,
   "metadata": {},
   "outputs": [],
   "source": [
    "from matplotlib import pyplot as plt"
   ]
  },
  {
   "cell_type": "code",
   "execution_count": 19,
   "metadata": {},
   "outputs": [
    {
     "data": {
      "image/png": "[encoded data removed]",
      "text/plain": [
       "<Figure size 432x288 with 1 Axes>"
      ]
     },
     "metadata": {},
     "output_type": "display_data"
    }
   ],
   "source": [
    "_ = plt.hist(np.log(test_predictions/(1-test_predictions)), 50)"
   ]
  },
  {
   "cell_type": "code",
   "execution_count": 20,
   "metadata": {},
   "outputs": [],
   "source": [
    "train_path = '../../datasets/santander_customer_transaction_prediction/train.csv'\n",
    "test_path = '../../datasets/santander_customer_transaction_prediction/test.csv'\n",
    "def save_submit_file(predictions, filename, message, test_filename=test_path, index_column='ID_code', target_column = 'target'):\n",
    "    df_test_submit = pd.read_csv(test_filename).set_index(index_column)\n",
    "    df_test_submit[target_column] = predictions\n",
    "    df_test_submit[[target_column]].to_csv(filename)\n",
    "    return \"kaggle competitions submit -c santander-customer-transaction-prediction -f {} -m '{}'\".format(filename, message)"
   ]
  },
  {
   "cell_type": "code",
   "execution_count": 22,
   "metadata": {},
   "outputs": [
    {
     "data": {
      "text/plain": [
       "\"kaggle competitions submit -c santander-customer-transaction-prediction -f submissions/submit_CNN_generator_cl1_4_cl0_4_600_rev.csv -m 'CNN with magic and generator 4 4 600 rev'\""
      ]
     },
     "execution_count": 22,
     "metadata": {},
     "output_type": "execute_result"
    }
   ],
   "source": [
    "save_submit_file(test_predictions, \n",
    "                 f'submissions/submit_CNN_generator_cl1_{class_1_aug}_cl0_{class_0_aug}_{N_units}_rev.csv', \n",
    "                 f'CNN with magic and generator {class_1_aug} {class_0_aug} {N_units} rev')"
   ]
  },
  {
   "cell_type": "code",
   "execution_count": 23,
   "metadata": {},
   "outputs": [
    {
     "name": "stdout",
     "output_type": "stream",
     "text": [
      "100%|███████████████████████████████████████| 4.43M/4.43M [00:05<00:00, 805kB/s]\n",
      "Successfully submitted to Santander Customer Transaction Prediction"
     ]
    }
   ],
   "source": [
    "! kaggle competitions submit -c santander-customer-transaction-prediction -f submissions/submit_CNN_generator_cl1_4_cl0_4_600_rev.csv -m 'CNN with magic and generator 4 4 600 rev'"
   ]
  },
  {
   "cell_type": "markdown",
   "metadata": {},
   "source": [
    "# LGBM Test predictions"
   ]
  },
  {
   "cell_type": "code",
   "execution_count": 19,
   "metadata": {},
   "outputs": [],
   "source": [
    "all_test_pred_LGBM_filename = 'all_test_preds.npy'\n",
    "test_predictions_LGBM = np.load(all_test_pred_LGBM_filename)"
   ]
  },
  {
   "cell_type": "code",
   "execution_count": 20,
   "metadata": {},
   "outputs": [],
   "source": [
    "import statsmodels.api as sm"
   ]
  },
  {
   "cell_type": "code",
   "execution_count": 21,
   "metadata": {},
   "outputs": [],
   "source": [
    "indexes = np.load('indexes_shuffled.npy')\n",
    "all_off_LGBM = np.load('all_oof.npy')\n",
    "all_off_LGBM_intercept = np.append(np.ones((200000,1)), all_off_LGBM, axis=1)\n",
    "y_LGBM = y[indexes]"
   ]
  },
  {
   "cell_type": "code",
   "execution_count": 22,
   "metadata": {},
   "outputs": [],
   "source": [
    "p_test_odds = np.ones(200000) * 1 / 9\n",
    "for j in range(200):\n",
    "    #if roc_auc_score(y_LGBM, all_off_LGBM[:, j]) >= 0.500:\n",
    "    p_test_odds *= (9 * all_off_LGBM[:, j] / (1 - all_off_LGBM[:, j]))"
   ]
  },
  {
   "cell_type": "code",
   "execution_count": 23,
   "metadata": {},
   "outputs": [],
   "source": [
    "p_test_odds = p_test_odds / (1 + p_test_odds)"
   ]
  },
  {
   "cell_type": "code",
   "execution_count": 24,
   "metadata": {},
   "outputs": [
    {
     "data": {
      "text/plain": [
       "0.6865841239971254"
      ]
     },
     "execution_count": 24,
     "metadata": {},
     "output_type": "execute_result"
    }
   ],
   "source": [
    "roc_auc_score(y_LGBM, p_test_odds)"
   ]
  },
  {
   "cell_type": "code",
   "execution_count": 25,
   "metadata": {},
   "outputs": [
    {
     "name": "stdout",
     "output_type": "stream",
     "text": [
      "Optimization terminated successfully.\n",
      "         Current function value: 0.180549\n",
      "         Iterations 9\n",
      "CPU times: user 11.8 s, sys: 651 ms, total: 12.4 s\n",
      "Wall time: 2.1 s\n",
      "##################\n",
      "Combined Model with magic Val_AUC= 0.92011\n",
      "\n"
     ]
    }
   ],
   "source": [
    "logr_LGBM = sm.Logit(y_LGBM, all_off_LGBM_intercept)\n",
    "%time logr_LGBM = logr_LGBM.fit(disp=1, method='newton')\n",
    "ensemble_preds = logr_LGBM.predict(all_off_LGBM_intercept)\n",
    "ensemble_auc = roc_auc_score(y_LGBM, ensemble_preds)  \n",
    "print('##################')\n",
    "print('Combined Model with magic Val_AUC=',round(ensemble_auc,5))\n",
    "print()"
   ]
  },
  {
   "cell_type": "code",
   "execution_count": 26,
   "metadata": {},
   "outputs": [],
   "source": [
    "test_predictions_LGBM_intercept = np.append(np.ones((200000,1)), test_predictions_LGBM, axis=1)\n",
    "prob_test_predictions_LGBM = logr_LGBM.predict(test_predictions_LGBM_intercept)"
   ]
  },
  {
   "cell_type": "code",
   "execution_count": 27,
   "metadata": {},
   "outputs": [
    {
     "data": {
      "text/plain": [
       "(200000,)"
      ]
     },
     "execution_count": 27,
     "metadata": {},
     "output_type": "execute_result"
    }
   ],
   "source": [
    "prob_test_predictions_LGBM.shape"
   ]
  },
  {
   "cell_type": "code",
   "execution_count": 28,
   "metadata": {},
   "outputs": [
    {
     "data": {
      "text/plain": [
       "0.7282253520434001"
      ]
     },
     "execution_count": 28,
     "metadata": {},
     "output_type": "execute_result"
    }
   ],
   "source": [
    "odds = np.sum(np.log(all_off_LGBM), axis=1)\n",
    "roc_auc_score(y_LGBM, odds)  "
   ]
  },
  {
   "cell_type": "markdown",
   "metadata": {},
   "source": [
    "# Merged"
   ]
  },
  {
   "cell_type": "code",
   "execution_count": 29,
   "metadata": {},
   "outputs": [
    {
     "data": {
      "text/plain": [
       "(200000, 202)"
      ]
     },
     "execution_count": 29,
     "metadata": {},
     "output_type": "execute_result"
    }
   ],
   "source": [
    "merged_oof_2 = np.append(full_val_preds[indexes], all_off_LGBM, axis=1)\n",
    "merged_oof_intercept_2 = np.append(np.ones((200000,1)), merged_oof_2, axis=1)\n",
    "merged_oof_intercept_2.shape"
   ]
  },
  {
   "cell_type": "code",
   "execution_count": 30,
   "metadata": {},
   "outputs": [
    {
     "name": "stdout",
     "output_type": "stream",
     "text": [
      "Optimization terminated successfully.\n",
      "         Current function value: 0.177642\n",
      "         Iterations 9\n",
      "CPU times: user 11.6 s, sys: 664 ms, total: 12.3 s\n",
      "Wall time: 2.05 s\n",
      "##################\n",
      "Combined Model with magic Val_AUC= 0.92298\n",
      "\n"
     ]
    }
   ],
   "source": [
    "logr_M2 = sm.Logit(y_LGBM, merged_oof_intercept_2)\n",
    "%time logr_M2 = logr_M2.fit(disp=1, method='newton')\n",
    "ensemble_preds = logr_M2.predict(merged_oof_intercept_2)\n",
    "ensemble_auc = roc_auc_score(y_LGBM, ensemble_preds)  \n",
    "print('##################')\n",
    "print('Combined Model with magic Val_AUC=',round(ensemble_auc,5))\n",
    "print()"
   ]
  },
  {
   "cell_type": "code",
   "execution_count": 31,
   "metadata": {},
   "outputs": [
    {
     "data": {
      "image/png": "[encoded data removed]",
      "text/plain": [
       "<Figure size 432x288 with 1 Axes>"
      ]
     },
     "metadata": {},
     "output_type": "display_data"
    }
   ],
   "source": [
    "test_merged_predictions = np.append(test_predictions, test_predictions_LGBM, axis=1)\n",
    "test_merged_predictions_intercept = np.append(np.ones((200000,1)), test_merged_predictions, axis=1)\n",
    "test_merged_predictions_ensamble = logr_M2.predict(test_merged_predictions_intercept)\n",
    "_ = plt.hist(np.log(test_merged_predictions_ensamble/(1-test_merged_predictions_ensamble)), 50)"
   ]
  },
  {
   "cell_type": "code",
   "execution_count": 32,
   "metadata": {},
   "outputs": [
    {
     "data": {
      "text/plain": [
       "\"kaggle competitions submit -c santander-customer-transaction-prediction -f submissions/submit_CNN_generator_cl1_4_cl0_4_600_merged_LGBM.csv -m 'CNN with magic and generator 4 4 600_merged_LGBM'\""
      ]
     },
     "execution_count": 32,
     "metadata": {},
     "output_type": "execute_result"
    }
   ],
   "source": [
    "save_submit_file(test_merged_predictions_ensamble, \n",
    "                 f'submissions/submit_CNN_generator_cl1_{class_1_aug}_cl0_{class_0_aug}_{N_units}_merged_LGBM.csv', \n",
    "                 f'CNN with magic and generator {class_1_aug} {class_0_aug} {N_units}_merged_LGBM')"
   ]
  },
  {
   "cell_type": "code",
   "execution_count": 33,
   "metadata": {},
   "outputs": [
    {
     "name": "stdout",
     "output_type": "stream",
     "text": [
      "100%|███████████████████████████████████████| 6.07M/6.07M [00:07<00:00, 853kB/s]\n",
      "Successfully submitted to Santander Customer Transaction Prediction"
     ]
    }
   ],
   "source": [
    "! kaggle competitions submit -c santander-customer-transaction-prediction -f submissions/submit_CNN_generator_cl1_4_cl0_4_600_merged_LGBM.csv -m 'CNN with magic and generator 4 4 600_merged_LGBM'"
   ]
  },
  {
   "cell_type": "code",
   "execution_count": null,
   "metadata": {},
   "outputs": [],
   "source": []
  }
 ],
 "metadata": {
  "kernelspec": {
   "display_name": "Python 3",
   "language": "python",
   "name": "python3"
  },
  "language_info": {
   "codemirror_mode": {
    "name": "ipython",
    "version": 3
   },
   "file_extension": ".py",
   "mimetype": "text/x-python",
   "name": "python",
   "nbconvert_exporter": "python",
   "pygments_lexer": "ipython3",
   "version": "3.6.8"
  }
 },
 "nbformat": 4,
 "nbformat_minor": 2
}
