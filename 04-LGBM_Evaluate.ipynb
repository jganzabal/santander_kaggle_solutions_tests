{
 "cells": [
  {
   "cell_type": "code",
   "execution_count": 3,
   "metadata": {},
   "outputs": [],
   "source": [
    "import numpy as np\n",
    "import pandas as pd\n",
    "import statsmodels.api as sm\n",
    "from sklearn.metrics import roc_auc_score"
   ]
  },
  {
   "cell_type": "code",
   "execution_count": 4,
   "metadata": {},
   "outputs": [],
   "source": [
    "train_valid = np.load('all_oof.npy')\n",
    "test_preds = np.load('all_test_preds.npy')\n",
    "indexes = np.load('indexes_shuffled.npy')"
   ]
  },
  {
   "cell_type": "code",
   "execution_count": 5,
   "metadata": {},
   "outputs": [],
   "source": [
    "train_path = '../../datasets/santander_customer_transaction_prediction/train.csv'"
   ]
  },
  {
   "cell_type": "code",
   "execution_count": 6,
   "metadata": {},
   "outputs": [],
   "source": [
    "y_train = pd.read_csv(train_path)['target'].values[indexes]"
   ]
  },
  {
   "cell_type": "code",
   "execution_count": 7,
   "metadata": {},
   "outputs": [
    {
     "data": {
      "text/plain": [
       "(200000, 200)"
      ]
     },
     "execution_count": 7,
     "metadata": {},
     "output_type": "execute_result"
    }
   ],
   "source": [
    "train_valid.shape"
   ]
  },
  {
   "cell_type": "code",
   "execution_count": 9,
   "metadata": {},
   "outputs": [
    {
     "data": {
      "text/plain": [
       "0.5916024965567686"
      ]
     },
     "execution_count": 9,
     "metadata": {},
     "output_type": "execute_result"
    }
   ],
   "source": [
    "roc_auc_score(y_train, train_valid[:, :40].sum(axis=1))"
   ]
  },
  {
   "cell_type": "markdown",
   "metadata": {},
   "source": [
    "# Regresión logística"
   ]
  },
  {
   "cell_type": "code",
   "execution_count": 6,
   "metadata": {},
   "outputs": [],
   "source": [
    "train_valid_norm = (train_valid - train_valid.mean(axis=0))/train_valid.std(axis=0)"
   ]
  },
  {
   "cell_type": "code",
   "execution_count": 7,
   "metadata": {},
   "outputs": [],
   "source": [
    "train_valid_intercept = np.append(train_valid_norm, np.ones((200000,1)), axis=1)"
   ]
  },
  {
   "cell_type": "code",
   "execution_count": 99,
   "metadata": {},
   "outputs": [
    {
     "name": "stdout",
     "output_type": "stream",
     "text": [
      "Optimization terminated successfully.\n",
      "         Current function value: 0.180549\n",
      "         Iterations 8\n",
      "CPU times: user 10.7 s, sys: 594 ms, total: 11.3 s\n",
      "Wall time: 1.88 s\n",
      "##################\n",
      "Combined Model with magic Val_AUC= 0.92011\n",
      "\n"
     ]
    }
   ],
   "source": [
    "# ENSEMBLE MODEL WITH MAGIC\n",
    "logr = sm.Logit(y_train, train_valid_intercept)\n",
    "%time logr = logr.fit(disp=1, method='newton')\n",
    "ensemble_preds = logr.predict(train_valid_intercept)\n",
    "ensemble_auc = roc_auc_score(y_train, ensemble_preds)  \n",
    "print('##################')\n",
    "print('Combined Model with magic Val_AUC=',round(ensemble_auc,5))\n",
    "print()"
   ]
  },
  {
   "cell_type": "code",
   "execution_count": 106,
   "metadata": {},
   "outputs": [],
   "source": [
    "test_preds_norm = (test_preds - test_preds.mean(axis=0))/test_preds.std(axis=0)\n",
    "test_preds_intercept = np.append(test_preds_norm, np.ones((200000,1)), axis=1)\n",
    "test_predictions = logr.predict(test_preds_intercept)"
   ]
  },
  {
   "cell_type": "code",
   "execution_count": 110,
   "metadata": {},
   "outputs": [
    {
     "data": {
      "text/plain": [
       "1.0"
      ]
     },
     "execution_count": 110,
     "metadata": {},
     "output_type": "execute_result"
    }
   ],
   "source": [
    "np.max(test_predictions)"
   ]
  },
  {
   "cell_type": "code",
   "execution_count": 111,
   "metadata": {},
   "outputs": [
    {
     "data": {
      "image/png": "[encoded data removed]",
      "text/plain": [
       "<Figure size 432x288 with 1 Axes>"
      ]
     },
     "metadata": {},
     "output_type": "display_data"
    }
   ],
   "source": [
    "from matplotlib import pyplot as plt\n",
    "_=plt.hist(np.log(test_predictions/(1-test_predictions+1e-12)), 100)"
   ]
  },
  {
   "cell_type": "code",
   "execution_count": 167,
   "metadata": {},
   "outputs": [],
   "source": [
    "#logr.params"
   ]
  },
  {
   "cell_type": "markdown",
   "metadata": {},
   "source": [
    "# Red neuronal"
   ]
  },
  {
   "cell_type": "code",
   "execution_count": 263,
   "metadata": {},
   "outputs": [],
   "source": [
    "from keras.models import Sequential\n",
    "from keras.layers import Dense\n",
    "from keras.optimizers import Adam, SGD\n",
    "from keras.layers import Dropout, BatchNormalization"
   ]
  },
  {
   "cell_type": "code",
   "execution_count": 286,
   "metadata": {},
   "outputs": [
    {
     "name": "stdout",
     "output_type": "stream",
     "text": [
      "_________________________________________________________________\n",
      "Layer (type)                 Output Shape              Param #   \n",
      "=================================================================\n",
      "dense_38 (Dense)             (None, 4)                 804       \n",
      "_________________________________________________________________\n",
      "dense_39 (Dense)             (None, 1)                 5         \n",
      "=================================================================\n",
      "Total params: 809\n",
      "Trainable params: 809\n",
      "Non-trainable params: 0\n",
      "_________________________________________________________________\n"
     ]
    }
   ],
   "source": [
    "model = Sequential()\n",
    "model.add(Dense( 4, input_shape=(train_valid.shape[1],), activation='relu'))\n",
    "# model.add(BatchNormalization())\n",
    "# model.add(Dropout(0.5))\n",
    "model.add(Dense( 1, input_shape=(train_valid.shape[1],), activation='sigmoid'))\n",
    "model.summary()"
   ]
  },
  {
   "cell_type": "code",
   "execution_count": 287,
   "metadata": {},
   "outputs": [],
   "source": [
    "model.compile(Adam(lr=0.0001), loss='binary_crossentropy', metrics=['accuracy'])"
   ]
  },
  {
   "cell_type": "code",
   "execution_count": 288,
   "metadata": {},
   "outputs": [],
   "source": [
    "N = 160_000"
   ]
  },
  {
   "cell_type": "code",
   "execution_count": 289,
   "metadata": {},
   "outputs": [
    {
     "name": "stdout",
     "output_type": "stream",
     "text": [
      "Train on 160000 samples, validate on 40000 samples\n",
      "Epoch 1/20\n",
      "160000/160000 [==============================] - 1s 8us/step - loss: 0.3605 - acc: 0.8896 - val_loss: 0.7967 - val_acc: 0.4917\n",
      "Epoch 2/20\n",
      "160000/160000 [==============================] - 1s 4us/step - loss: 0.2860 - acc: 0.9244 - val_loss: 0.5451 - val_acc: 0.8619\n",
      "Epoch 3/20\n",
      "160000/160000 [==============================] - 1s 4us/step - loss: 0.2643 - acc: 0.9266 - val_loss: 0.4502 - val_acc: 0.9166\n",
      "Epoch 4/20\n",
      "160000/160000 [==============================] - 1s 5us/step - loss: 0.2476 - acc: 0.9280 - val_loss: 0.3956 - val_acc: 0.9205\n",
      "Epoch 5/20\n",
      "160000/160000 [==============================] - 1s 4us/step - loss: 0.2346 - acc: 0.9290 - val_loss: 0.3560 - val_acc: 0.9198\n",
      "Epoch 6/20\n",
      "160000/160000 [==============================] - 1s 4us/step - loss: 0.2244 - acc: 0.9297 - val_loss: 0.3267 - val_acc: 0.9184\n",
      "Epoch 7/20\n",
      "160000/160000 [==============================] - 1s 4us/step - loss: 0.2166 - acc: 0.9305 - val_loss: 0.3045 - val_acc: 0.9176\n",
      "Epoch 8/20\n",
      "160000/160000 [==============================] - 1s 4us/step - loss: 0.2105 - acc: 0.9307 - val_loss: 0.2894 - val_acc: 0.9165\n",
      "Epoch 9/20\n",
      "160000/160000 [==============================] - 1s 4us/step - loss: 0.2054 - acc: 0.9310 - val_loss: 0.2809 - val_acc: 0.9140\n",
      "Epoch 10/20\n",
      "160000/160000 [==============================] - 1s 4us/step - loss: 0.2014 - acc: 0.9311 - val_loss: 0.2793 - val_acc: 0.9108\n",
      "Epoch 11/20\n",
      "160000/160000 [==============================] - 1s 4us/step - loss: 0.1984 - acc: 0.9315 - val_loss: 0.2752 - val_acc: 0.9104\n",
      "Epoch 12/20\n",
      "160000/160000 [==============================] - 1s 5us/step - loss: 0.1957 - acc: 0.9314 - val_loss: 0.2788 - val_acc: 0.9084\n",
      "Epoch 13/20\n",
      "160000/160000 [==============================] - 1s 5us/step - loss: 0.1938 - acc: 0.9315 - val_loss: 0.2768 - val_acc: 0.9085\n",
      "Epoch 14/20\n",
      "160000/160000 [==============================] - 1s 4us/step - loss: 0.1921 - acc: 0.9317 - val_loss: 0.2874 - val_acc: 0.9055\n",
      "Epoch 15/20\n",
      "160000/160000 [==============================] - 1s 4us/step - loss: 0.1908 - acc: 0.9318 - val_loss: 0.2909 - val_acc: 0.9051\n",
      "Epoch 16/20\n",
      "160000/160000 [==============================] - 1s 5us/step - loss: 0.1895 - acc: 0.9314 - val_loss: 0.2970 - val_acc: 0.9042\n",
      "Epoch 17/20\n",
      "160000/160000 [==============================] - 1s 7us/step - loss: 0.1886 - acc: 0.9319 - val_loss: 0.3062 - val_acc: 0.9033\n",
      "Epoch 18/20\n",
      "160000/160000 [==============================] - 1s 4us/step - loss: 0.1876 - acc: 0.9317 - val_loss: 0.3059 - val_acc: 0.9038\n",
      "Epoch 19/20\n",
      "160000/160000 [==============================] - 1s 4us/step - loss: 0.1857 - acc: 0.9315 - val_loss: 0.3181 - val_acc: 0.9021\n",
      "Epoch 20/20\n",
      "160000/160000 [==============================] - 1s 4us/step - loss: 0.1850 - acc: 0.9311 - val_loss: 0.3260 - val_acc: 0.9012\n"
     ]
    },
    {
     "data": {
      "text/plain": [
       "<keras.callbacks.History at 0x7f26d900a9b0>"
      ]
     },
     "execution_count": 289,
     "metadata": {},
     "output_type": "execute_result"
    }
   ],
   "source": [
    "model.fit(train_valid_norm[:N], y_train[:N], \n",
    "          epochs=20, batch_size=500, \n",
    "          validation_data=(train_valid_norm[N:], y_train[N:]))"
   ]
  },
  {
   "cell_type": "code",
   "execution_count": 255,
   "metadata": {},
   "outputs": [
    {
     "name": "stdout",
     "output_type": "stream",
     "text": [
      "160000/160000 [==============================] - 2s 12us/step\n"
     ]
    },
    {
     "data": {
      "text/plain": [
       "0.9269020992900272"
      ]
     },
     "execution_count": 255,
     "metadata": {},
     "output_type": "execute_result"
    }
   ],
   "source": [
    "roc_auc_score(y_train[:N], model.predict_proba(train_valid_norm[:N], verbose=1))"
   ]
  },
  {
   "cell_type": "code",
   "execution_count": 256,
   "metadata": {},
   "outputs": [
    {
     "name": "stdout",
     "output_type": "stream",
     "text": [
      "40000/40000 [==============================] - 0s 11us/step\n"
     ]
    },
    {
     "data": {
      "text/plain": [
       "0.9036660912312631"
      ]
     },
     "execution_count": 256,
     "metadata": {},
     "output_type": "execute_result"
    }
   ],
   "source": [
    "roc_auc_score(y_train[N:], model.predict_proba(train_valid_norm[N:], verbose=1))"
   ]
  },
  {
   "cell_type": "code",
   "execution_count": 239,
   "metadata": {},
   "outputs": [
    {
     "name": "stdout",
     "output_type": "stream",
     "text": [
      "160000/160000 [==============================] - 2s 15us/step\n"
     ]
    },
    {
     "data": {
      "text/plain": [
       "[0.17889474597238003, 0.93409375]"
      ]
     },
     "execution_count": 239,
     "metadata": {},
     "output_type": "execute_result"
    }
   ],
   "source": [
    "model.evaluate(train_valid_norm[:N], y_train[:N])"
   ]
  },
  {
   "cell_type": "code",
   "execution_count": 240,
   "metadata": {},
   "outputs": [
    {
     "name": "stdout",
     "output_type": "stream",
     "text": [
      "40000/40000 [==============================] - 1s 20us/step\n"
     ]
    },
    {
     "data": {
      "text/plain": [
       "[0.6072848263263703, 0.92105]"
      ]
     },
     "execution_count": 240,
     "metadata": {},
     "output_type": "execute_result"
    }
   ],
   "source": [
    "model.evaluate(train_valid_norm[N:], y_train[N:])"
   ]
  },
  {
   "cell_type": "code",
   "execution_count": null,
   "metadata": {},
   "outputs": [],
   "source": []
  }
 ],
 "metadata": {
  "kernelspec": {
   "display_name": "Python 3",
   "language": "python",
   "name": "python3"
  },
  "language_info": {
   "codemirror_mode": {
    "name": "ipython",
    "version": 3
   },
   "file_extension": ".py",
   "mimetype": "text/x-python",
   "name": "python",
   "nbconvert_exporter": "python",
   "pygments_lexer": "ipython3",
   "version": "3.6.8"
  }
 },
 "nbformat": 4,
 "nbformat_minor": 2
}
