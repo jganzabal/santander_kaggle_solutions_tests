{
 "cells": [
  {
   "cell_type": "code",
   "execution_count": 1,
   "metadata": {},
   "outputs": [],
   "source": [
    "%load_ext autoreload\n",
    "%autoreload 2"
   ]
  },
  {
   "cell_type": "code",
   "execution_count": 2,
   "metadata": {},
   "outputs": [],
   "source": [
    "import numpy as np\n",
    "import pandas as pd\n",
    "from matplotlib import pyplot as plt\n",
    "from sklearn.metrics import roc_auc_score"
   ]
  },
  {
   "cell_type": "code",
   "execution_count": 3,
   "metadata": {},
   "outputs": [],
   "source": [
    "all_off_filename = 'all_oof_NN.npy'\n",
    "all_test_pred_filename = 'all_test_preds_NN.npy'\n",
    "all_off_filename = 'all_oof_NN_v2.npy'\n",
    "all_test_pred_filename = 'all_test_preds_NN_v2.npy'\n",
    "all_test_pred_LGBM_filename = 'all_test_preds.npy'"
   ]
  },
  {
   "cell_type": "code",
   "execution_count": 4,
   "metadata": {},
   "outputs": [],
   "source": [
    "df_train = pd.read_csv('train_with_counts.csv')\n",
    "y = df_train['target'].values\n",
    "indexes = np.load('indexes_shuffled.npy')\n",
    "all_off_LGBM = np.load('all_oof.npy')\n",
    "all_oof = np.load(all_off_filename)\n",
    "y_LGBM = df_train['target'].values[indexes]\n",
    "test_predictions = np.load(all_test_pred_filename)\n",
    "test_predictions_LGBM = np.load(all_test_pred_LGBM_filename)"
   ]
  },
  {
   "cell_type": "code",
   "execution_count": 5,
   "metadata": {},
   "outputs": [
    {
     "name": "stdout",
     "output_type": "stream",
     "text": [
      "0.6765062898725573\n",
      "0.8913345808747772\n"
     ]
    }
   ],
   "source": [
    "# Por que esta diff con arboles respecto a NN\n",
    "# NN 0.9177207526081146\n",
    "# NN_2 0.8913345808747772\n",
    "print(roc_auc_score(y_LGBM, all_off_LGBM.mean(axis=1)))\n",
    "print(roc_auc_score(y, all_oof.mean(axis=1)))"
   ]
  },
  {
   "cell_type": "code",
   "execution_count": 27,
   "metadata": {},
   "outputs": [
    {
     "name": "stdout",
     "output_type": "stream",
     "text": [
      "[]\n"
     ]
    }
   ],
   "source": [
    "unique_values, unique_indexes, unique_inverse, unique_counts  = np.unique(all_oof[0, :], \n",
    "                                                                          return_counts=True, return_index=True, return_inverse=True)\n",
    "errors = np.where(unique_counts[unique_inverse]>1)[0]\n",
    "print(errors)"
   ]
  },
  {
   "cell_type": "code",
   "execution_count": 28,
   "metadata": {},
   "outputs": [
    {
     "name": "stdout",
     "output_type": "stream",
     "text": [
      "var_0: 0.5451 - 0.5479 = -0.0028\n",
      "var_1: 0.5443 - 0.5453 = -0.0010\n",
      "var_2: 0.5509 - 0.5508 = 0.0002\n",
      "var_3: 0.5076 - 0.5072 = 0.0004\n",
      "var_4: 0.5085 - 0.5060 = 0.0025\n",
      "var_5: 0.5270 - 0.5208 = 0.0062\n",
      "var_6: 0.5612 - 0.5388 = 0.0224\n",
      "var_7: 0.5029 - 0.5020 = 0.0009\n",
      "var_8: 0.5189 - 0.5161 = 0.0028\n",
      "var_9: 0.5340 - 0.5358 = -0.0019\n",
      "var_10: 0.5044 - 0.5021 = 0.0023\n",
      "var_11: 0.5205 - 0.5149 = 0.0056\n",
      "var_12: 0.5583 - 0.5504 = 0.0078\n",
      "var_13: 0.5455 - 0.5522 = -0.0067\n",
      "var_14: 0.5080 - 0.5032 = 0.0049\n",
      "var_15: 0.5129 - 0.5049 = 0.0079\n",
      "var_16: 0.5090 - 0.5042 = 0.0048\n",
      "var_17: 0.5048 - 0.4982 = 0.0066\n",
      "var_18: 0.5370 - 0.5394 = -0.0024\n",
      "var_19: 0.5127 - 0.5035 = 0.0092\n",
      "var_20: 0.5162 - 0.5199 = -0.0037\n",
      "var_21: 0.5531 - 0.5565 = -0.0034\n",
      "var_22: 0.5522 - 0.5462 = 0.0060\n",
      "var_23: 0.5198 - 0.5200 = -0.0002\n",
      "var_24: 0.5243 - 0.5259 = -0.0015\n",
      "var_25: 0.5108 - 0.5061 = 0.0047\n",
      "var_26: 0.5573 - 0.5569 = 0.0004\n",
      "var_27: 0.5050 - 0.5010 = 0.0039\n",
      "var_28: 0.5223 - 0.5156 = 0.0068\n",
      "var_29: 0.5041 - 0.4977 = 0.0063\n",
      "var_30: 0.5018 - 0.5008 = 0.0010\n",
      "var_31: 0.5226 - 0.5162 = 0.0065\n",
      "var_32: 0.5267 - 0.5113 = 0.0154\n",
      "var_33: 0.5384 - 0.5336 = 0.0048\n",
      "var_34: 0.5452 - 0.5318 = 0.0135\n",
      "var_35: 0.5358 - 0.5276 = 0.0082\n",
      "var_36: 0.5357 - 0.5379 = -0.0022\n",
      "var_37: 0.5064 - 0.5075 = -0.0011\n",
      "var_38: 0.5057 - 0.5036 = 0.0021\n",
      "var_39: 0.5060 - 0.5054 = 0.0005\n",
      "var_40: 0.5423 - 0.5441 = -0.0017\n",
      "var_41: 0.5068 - 0.5007 = 0.0061\n",
      "var_42: 0.5083 - 0.5036 = 0.0047\n",
      "var_43: 0.5241 - 0.5224 = 0.0017\n",
      "var_44: 0.5459 - 0.5380 = 0.0079\n",
      "var_45: 0.5198 - 0.5128 = 0.0070\n",
      "var_46: 0.5036 - 0.4982 = 0.0054\n",
      "var_47: 0.5096 - 0.5010 = 0.0086\n",
      "var_48: 0.5329 - 0.5198 = 0.0131\n",
      "var_49: 0.5296 - 0.5243 = 0.0052\n",
      "var_50: 0.5095 - 0.5106 = -0.0011\n",
      "var_51: 0.5229 - 0.5193 = 0.0036\n",
      "var_52: 0.5254 - 0.5186 = 0.0068\n",
      "var_53: 0.5543 - 0.5540 = 0.0003\n",
      "var_54: 0.5181 - 0.5152 = 0.0029\n",
      "var_55: 0.5115 - 0.5074 = 0.0041\n",
      "var_56: 0.5281 - 0.5201 = 0.0080\n",
      "var_57: 0.5115 - 0.4996 = 0.0119\n",
      "var_58: 0.5252 - 0.5228 = 0.0024\n",
      "var_59: 0.5069 - 0.5041 = 0.0028\n",
      "var_60: 0.5101 - 0.5036 = 0.0065\n",
      "var_61: 0.5070 - 0.5042 = 0.0027\n",
      "var_62: 0.5139 - 0.5025 = 0.0114\n",
      "var_63: 0.5101 - 0.5063 = 0.0037\n",
      "var_64: 0.5105 - 0.5010 = 0.0096\n",
      "var_65: 0.5111 - 0.5073 = 0.0039\n",
      "var_66: 0.5188 - 0.5102 = 0.0086\n",
      "var_67: 0.5421 - 0.5428 = -0.0007\n",
      "var_68: 0.5110 - 0.5073 = 0.0038\n",
      "var_69: 0.5108 - 0.5042 = 0.0066\n",
      "var_70: 0.5246 - 0.5220 = 0.0025\n",
      "var_71: 0.5306 - 0.5185 = 0.0120\n",
      "var_72: 0.5108 - 0.5085 = 0.0023\n",
      "var_73: 0.5064 - 0.5040 = 0.0024\n",
      "var_74: 0.5205 - 0.5095 = 0.0110\n",
      "var_75: 0.5340 - 0.5366 = -0.0026\n",
      "var_76: 0.5579 - 0.5611 = -0.0032\n",
      "var_77: 0.5163 - 0.5102 = 0.0061\n",
      "var_78: 0.5419 - 0.5419 = 0.0000\n",
      "var_79: 0.5071 - 0.5043 = 0.0029\n",
      "var_80: 0.5549 - 0.5575 = -0.0026\n",
      "var_81: 0.5740 - 0.5721 = 0.0019\n",
      "var_82: 0.5200 - 0.5174 = 0.0026\n",
      "var_83: 0.5199 - 0.5073 = 0.0126\n",
      "var_84: 0.5103 - 0.5087 = 0.0016\n",
      "var_85: 0.5237 - 0.5139 = 0.0097\n",
      "var_86: 0.5343 - 0.5391 = -0.0048\n",
      "var_87: 0.5316 - 0.5279 = 0.0037\n",
      "var_88: 0.5180 - 0.5126 = 0.0054\n",
      "var_89: 0.5347 - 0.5315 = 0.0032\n",
      "var_90: 0.5288 - 0.5150 = 0.0138\n",
      "var_91: 0.5324 - 0.5274 = 0.0050\n",
      "var_92: 0.5395 - 0.5346 = 0.0049\n",
      "var_93: 0.5305 - 0.5307 = -0.0001\n",
      "var_94: 0.5413 - 0.5324 = 0.0089\n",
      "var_95: 0.5332 - 0.5302 = 0.0030\n",
      "var_96: 0.5047 - 0.5035 = 0.0013\n",
      "var_97: 0.5143 - 0.5125 = 0.0018\n",
      "var_98: 0.5065 - 0.5017 = 0.0048\n",
      "var_99: 0.5504 - 0.5519 = -0.0015\n",
      "var_100: 0.5040 - 0.5007 = 0.0033\n",
      "var_101: 0.5091 - 0.5030 = 0.0060\n",
      "var_102: 0.5205 - 0.5103 = 0.0102\n",
      "var_103: 0.5032 - 0.4989 = 0.0043\n",
      "var_104: 0.5241 - 0.5153 = 0.0088\n",
      "var_105: 0.5228 - 0.5105 = 0.0123\n",
      "var_106: 0.5295 - 0.5206 = 0.0089\n",
      "var_107: 0.5381 - 0.5296 = 0.0085\n",
      "var_108: 0.5439 - 0.5404 = 0.0035\n",
      "var_109: 0.5423 - 0.5428 = -0.0005\n",
      "var_110: 0.5580 - 0.5561 = 0.0019\n",
      "var_111: 0.5192 - 0.5190 = 0.0001\n",
      "var_112: 0.5235 - 0.5279 = -0.0045\n",
      "var_113: 0.5109 - 0.5073 = 0.0035\n",
      "var_114: 0.5194 - 0.5199 = -0.0005\n",
      "var_115: 0.5417 - 0.5360 = 0.0057\n",
      "var_116: 0.5184 - 0.5173 = 0.0010\n",
      "var_117: 0.5060 - 0.5070 = -0.0010\n",
      "var_118: 0.5379 - 0.5406 = -0.0027\n",
      "var_119: 0.5268 - 0.5226 = 0.0042\n",
      "var_120: 0.5143 - 0.5101 = 0.0042\n",
      "var_121: 0.5363 - 0.5362 = 0.0001\n",
      "var_122: 0.5384 - 0.5381 = 0.0003\n",
      "var_123: 0.5400 - 0.5391 = 0.0010\n",
      "var_124: 0.5065 - 0.4995 = 0.0070\n",
      "var_125: 0.5252 - 0.5109 = 0.0143\n",
      "var_126: 0.5063 - 0.5037 = 0.0025\n",
      "var_127: 0.5348 - 0.5367 = -0.0019\n",
      "var_128: 0.5199 - 0.5127 = 0.0072\n",
      "var_129: 0.5082 - 0.5011 = 0.0071\n",
      "var_130: 0.5222 - 0.5255 = -0.0033\n",
      "var_131: 0.5296 - 0.5086 = 0.0210\n",
      "var_132: 0.5202 - 0.5193 = 0.0009\n",
      "var_133: 0.5458 - 0.5326 = 0.0132\n",
      "var_134: 0.5147 - 0.5132 = 0.0014\n",
      "var_135: 0.5243 - 0.5165 = 0.0078\n",
      "var_136: 0.5057 - 0.5056 = 0.0001\n",
      "var_137: 0.5229 - 0.5202 = 0.0027\n",
      "var_138: 0.5191 - 0.5152 = 0.0039\n",
      "var_139: 0.5724 - 0.5757 = -0.0033\n",
      "var_140: 0.5131 - 0.5081 = 0.0050\n",
      "var_141: 0.5258 - 0.5307 = -0.0049\n",
      "var_142: 0.5143 - 0.5159 = -0.0015\n",
      "var_143: 0.5092 - 0.5024 = 0.0068\n",
      "var_144: 0.5183 - 0.5136 = 0.0047\n",
      "var_145: 0.5264 - 0.5207 = 0.0057\n",
      "var_146: 0.5558 - 0.5506 = 0.0052\n",
      "var_147: 0.5352 - 0.5285 = 0.0067\n",
      "var_148: 0.5474 - 0.5505 = -0.0030\n",
      "var_149: 0.5471 - 0.5496 = -0.0025\n",
      "var_150: 0.5215 - 0.5189 = 0.0026\n",
      "var_151: 0.5234 - 0.5174 = 0.0060\n",
      "var_152: 0.5112 - 0.5036 = 0.0076\n",
      "var_153: 0.5067 - 0.4999 = 0.0068\n",
      "var_154: 0.5415 - 0.5435 = -0.0020\n",
      "var_155: 0.5300 - 0.5327 = -0.0027\n",
      "var_156: 0.5159 - 0.5037 = 0.0122\n",
      "var_157: 0.5287 - 0.5162 = 0.0125\n",
      "var_158: 0.5060 - 0.4971 = 0.0089\n",
      "var_159: 0.5114 - 0.5062 = 0.0052\n",
      "var_160: 0.5058 - 0.5022 = 0.0036\n",
      "var_161: 0.5028 - 0.5049 = -0.0021\n",
      "var_162: 0.5289 - 0.5197 = 0.0093\n",
      "var_163: 0.5280 - 0.5323 = -0.0043\n",
      "var_164: 0.5363 - 0.5366 = -0.0002\n",
      "var_165: 0.5530 - 0.5502 = 0.0028\n",
      "var_166: 0.5484 - 0.5496 = -0.0013\n",
      "var_167: 0.5291 - 0.5270 = 0.0021\n",
      "var_168: 0.5117 - 0.5111 = 0.0005\n",
      "var_169: 0.5433 - 0.5474 = -0.0041\n",
      "var_170: 0.5400 - 0.5396 = 0.0003\n",
      "var_171: 0.5136 - 0.5029 = 0.0107\n",
      "var_172: 0.5357 - 0.5316 = 0.0042\n",
      "var_173: 0.5380 - 0.5360 = 0.0020\n",
      "var_174: 0.5512 - 0.5504 = 0.0008\n",
      "var_175: 0.5199 - 0.5159 = 0.0040\n",
      "var_176: 0.5076 - 0.5038 = 0.0038\n",
      "var_177: 0.5332 - 0.5303 = 0.0029\n",
      "var_178: 0.5162 - 0.5063 = 0.0100\n",
      "var_179: 0.5441 - 0.5433 = 0.0008\n",
      "var_180: 0.5258 - 0.5188 = 0.0070\n",
      "var_181: 0.5142 - 0.5145 = -0.0003\n",
      "var_182: 0.5065 - 0.5031 = 0.0035\n",
      "var_183: 0.5064 - 0.4963 = 0.0101\n",
      "var_184: 0.5414 - 0.5472 = -0.0058\n",
      "var_185: 0.5031 - 0.5018 = 0.0013\n",
      "var_186: 0.5283 - 0.5283 = -0.0000\n",
      "var_187: 0.5139 - 0.5078 = 0.0061\n",
      "var_188: 0.5292 - 0.5307 = -0.0015\n",
      "var_189: 0.5064 - 0.5067 = -0.0003\n",
      "var_190: 0.5460 - 0.5498 = -0.0038\n",
      "var_191: 0.5431 - 0.5435 = -0.0004\n",
      "var_192: 0.5354 - 0.5354 = -0.0000\n",
      "var_193: 0.5135 - 0.5094 = 0.0042\n",
      "var_194: 0.5184 - 0.5109 = 0.0075\n",
      "var_195: 0.5258 - 0.5242 = 0.0016\n",
      "var_196: 0.5198 - 0.5145 = 0.0053\n",
      "var_197: 0.5302 - 0.5185 = 0.0116\n",
      "var_198: 0.5462 - 0.5509 = -0.0047\n",
      "var_199: 0.5198 - 0.5124 = 0.0074\n"
     ]
    },
    {
     "data": {
      "text/plain": [
       "0.7347591602760687"
      ]
     },
     "execution_count": 28,
     "metadata": {},
     "output_type": "execute_result"
    }
   ],
   "source": [
    "N = len(np.where(all_oof[13]!=0)[0])\n",
    "roc_evol = []\n",
    "roc_evol_LGBM = []\n",
    "acc_diff = 0\n",
    "merged_oof = np.zeros_like(all_oof)\n",
    "for i in range(N):\n",
    "    NN_roc = roc_auc_score(y, all_oof[:, i])    \n",
    "    LGBM_roc = roc_auc_score(y_LGBM, all_off_LGBM[:, i])\n",
    "    roc_evol.append(roc_auc_score(y, all_oof[:, :i].sum(axis=1)))\n",
    "    roc_evol_LGBM.append(roc_auc_score(y_LGBM, all_off_LGBM[:, :i].sum(axis=1)))\n",
    "    diff = NN_roc - LGBM_roc\n",
    "    acc_diff = acc_diff + diff\n",
    "#     if i in errors:\n",
    "#         print(f'var_{i}: {NN_roc:.4f} - {LGBM_roc:.4f} = {diff:.4f} error')\n",
    "#     else:\n",
    "    print(f'var_{i}: {NN_roc:.4f} - {LGBM_roc:.4f} = {diff:.4f}')\n",
    "    if diff>0:\n",
    "        \n",
    "        merged_oof[:, i] = all_oof[indexes, i]\n",
    "    else:\n",
    "        merged_oof[:, i] = all_off_LGBM[:, i]\n",
    "acc_diff"
   ]
  },
  {
   "cell_type": "code",
   "execution_count": 29,
   "metadata": {},
   "outputs": [
    {
     "data": {
      "text/plain": [
       "[<matplotlib.lines.Line2D at 0x7f2e93203a58>]"
      ]
     },
     "execution_count": 29,
     "metadata": {},
     "output_type": "execute_result"
    },
    {
     "data": {
      "image/png": "[encoded data removed]",
      "text/plain": [
       "<Figure size 432x288 with 1 Axes>"
      ]
     },
     "metadata": {},
     "output_type": "display_data"
    }
   ],
   "source": [
    "plt.plot(roc_evol)\n",
    "plt.plot(roc_evol_LGBM)"
   ]
  },
  {
   "cell_type": "code",
   "execution_count": 11,
   "metadata": {},
   "outputs": [],
   "source": [
    "import statsmodels.api as sm"
   ]
  },
  {
   "cell_type": "markdown",
   "metadata": {},
   "source": [
    "# For neural network"
   ]
  },
  {
   "cell_type": "code",
   "execution_count": 17,
   "metadata": {},
   "outputs": [
    {
     "data": {
      "text/plain": [
       "(200000, 201)"
      ]
     },
     "execution_count": 17,
     "metadata": {},
     "output_type": "execute_result"
    }
   ],
   "source": [
    "all_oof_intercept = np.append(np.ones((200000,1)), all_oof, axis=1)\n",
    "all_oof_intercept.shape"
   ]
  },
  {
   "cell_type": "code",
   "execution_count": 18,
   "metadata": {},
   "outputs": [
    {
     "name": "stdout",
     "output_type": "stream",
     "text": [
      "Optimization terminated successfully.\n",
      "         Current function value: 0.186613\n",
      "         Iterations 9\n",
      "CPU times: user 11.8 s, sys: 868 ms, total: 12.6 s\n",
      "Wall time: 2.11 s\n",
      "##################\n",
      "Combined Model with magic Val_AUC= 0.91441\n",
      "\n"
     ]
    }
   ],
   "source": [
    "N=200\n",
    "logr_NN = sm.Logit(y, all_oof_intercept[:, :N+1])\n",
    "%time logr_NN = logr_NN.fit(disp=1, method='newton')\n",
    "ensemble_preds = logr_NN.predict(all_oof_intercept[:, :N+1])\n",
    "ensemble_auc = roc_auc_score(y, ensemble_preds)  \n",
    "print('##################')\n",
    "print('Combined Model with magic Val_AUC=',round(ensemble_auc,5))\n",
    "print()\n",
    "# Combined Model with magic Val_AUC= 0.91583\n",
    "# Combined Model with magic Val_AUC= 0.91631\n",
    "# Combined Model with magic Val_AUC= 0.91792\n",
    "# Combined Model with magic Val_AUC= 0.9185\n",
    "# Combined Model with magic Val_AUC= 0.91993\n",
    "# Combined Model with magic Val_AUC= 0.9199"
   ]
  },
  {
   "cell_type": "code",
   "execution_count": 33,
   "metadata": {},
   "outputs": [
    {
     "data": {
      "image/png": "[encoded data removed]",
      "text/plain": [
       "<Figure size 432x288 with 1 Axes>"
      ]
     },
     "metadata": {},
     "output_type": "display_data"
    }
   ],
   "source": [
    "test_predictions_intercept = np.append(np.ones((200000,1)), test_predictions, axis=1)\n",
    "test_predictions_ensamble = logr_NN.predict(test_predictions_intercept)\n",
    "_ = plt.hist(np.log(test_predictions_ensamble/(1-test_predictions_ensamble)), 50)"
   ]
  },
  {
   "cell_type": "markdown",
   "metadata": {},
   "source": [
    "# For LGMB"
   ]
  },
  {
   "cell_type": "code",
   "execution_count": 34,
   "metadata": {},
   "outputs": [
    {
     "name": "stdout",
     "output_type": "stream",
     "text": [
      "(200000, 201)\n"
     ]
    },
    {
     "data": {
      "text/plain": [
       "(200000, 201)"
      ]
     },
     "execution_count": 34,
     "metadata": {},
     "output_type": "execute_result"
    }
   ],
   "source": [
    "N_LGBM = N\n",
    "all_off_LGBM_intercept = np.append(np.ones((200000,1)), all_off_LGBM, axis=1)\n",
    "print(all_off_LGBM_intercept.shape)\n",
    "all_off_LGBM_intercept[:, :N_LGBM+1].shape"
   ]
  },
  {
   "cell_type": "code",
   "execution_count": 35,
   "metadata": {},
   "outputs": [
    {
     "name": "stdout",
     "output_type": "stream",
     "text": [
      "Optimization terminated successfully.\n",
      "         Current function value: 0.180549\n",
      "         Iterations 9\n",
      "CPU times: user 11.9 s, sys: 788 ms, total: 12.6 s\n",
      "Wall time: 2.11 s\n",
      "##################\n",
      "Combined Model with magic Val_AUC= 0.92011\n",
      "\n"
     ]
    }
   ],
   "source": [
    "logr_LGBM = sm.Logit(y_LGBM, all_off_LGBM_intercept[:, :N_LGBM+1])\n",
    "%time logr_LGBM = logr_LGBM.fit(disp=1, method='newton')\n",
    "ensemble_preds = logr_LGBM.predict(all_off_LGBM_intercept[:, :N_LGBM+1])\n",
    "ensemble_auc = roc_auc_score(y_LGBM, ensemble_preds)  \n",
    "print('##################')\n",
    "print('Combined Model with magic Val_AUC=',round(ensemble_auc,5))\n",
    "print()"
   ]
  },
  {
   "cell_type": "code",
   "execution_count": 36,
   "metadata": {},
   "outputs": [
    {
     "data": {
      "image/png": "[encoded data removed]",
      "text/plain": [
       "<Figure size 432x288 with 1 Axes>"
      ]
     },
     "metadata": {},
     "output_type": "display_data"
    }
   ],
   "source": [
    "test_predictions_LGBM_intercept = np.append(np.ones((200000,1)), test_predictions_LGBM, axis=1)\n",
    "LGBM_test_predictions_ensamble = logr_LGBM.predict(test_predictions_LGBM_intercept)\n",
    "_ = plt.hist(np.log(LGBM_test_predictions_ensamble/(1-LGBM_test_predictions_ensamble)), 50)"
   ]
  },
  {
   "cell_type": "markdown",
   "metadata": {},
   "source": [
    "# Merged #1 \n",
    "(No parece muy sensato reemplazar si no más tomar todos como es el caso de Merged #2)"
   ]
  },
  {
   "cell_type": "code",
   "execution_count": 37,
   "metadata": {},
   "outputs": [
    {
     "name": "stdout",
     "output_type": "stream",
     "text": [
      "(200000, 201)\n"
     ]
    },
    {
     "data": {
      "text/plain": [
       "(200000, 201)"
      ]
     },
     "execution_count": 37,
     "metadata": {},
     "output_type": "execute_result"
    }
   ],
   "source": [
    "merged_oof_intercept = np.append(np.ones((200000,1)), merged_oof, axis=1)\n",
    "print(merged_oof_intercept.shape)\n",
    "merged_oof_intercept[:, :N+1].shape"
   ]
  },
  {
   "cell_type": "code",
   "execution_count": 38,
   "metadata": {},
   "outputs": [
    {
     "name": "stdout",
     "output_type": "stream",
     "text": [
      "Optimization terminated successfully.\n",
      "         Current function value: 0.184592\n",
      "         Iterations 9\n",
      "CPU times: user 11.7 s, sys: 749 ms, total: 12.5 s\n",
      "Wall time: 2.08 s\n",
      "##################\n",
      "Combined Model with magic Val_AUC= 0.91614\n",
      "\n"
     ]
    }
   ],
   "source": [
    "logr_M1 = sm.Logit(y_LGBM, merged_oof_intercept[:, :N+1])\n",
    "%time logr_M1 = logr_M1.fit(disp=1, method='newton')\n",
    "ensemble_preds = logr_M1.predict(merged_oof_intercept[:, :N+1])\n",
    "ensemble_auc = roc_auc_score(y_LGBM, ensemble_preds)  \n",
    "print('##################')\n",
    "print('Combined Model with magic Val_AUC=',round(ensemble_auc,5))\n",
    "print()\n",
    "# Combined Model with magic Val_AUC= 0.91798\n",
    "# Combined Model with magic Val_AUC= 0.91839\n",
    "# Combined Model with magic Val_AUC= 0.91894\n",
    "# Combined Model with magic Val_AUC= 0.92032"
   ]
  },
  {
   "cell_type": "markdown",
   "metadata": {},
   "source": [
    "# Merged #2"
   ]
  },
  {
   "cell_type": "code",
   "execution_count": 39,
   "metadata": {},
   "outputs": [
    {
     "data": {
      "text/plain": [
       "(200000, 401)"
      ]
     },
     "execution_count": 39,
     "metadata": {},
     "output_type": "execute_result"
    }
   ],
   "source": [
    "merged_oof_2 = np.append(all_oof[indexes, :N], all_off_LGBM[:, :N], axis=1)\n",
    "merged_oof_intercept_2 = np.append(np.ones((200000,1)), merged_oof_2, axis=1)\n",
    "merged_oof_intercept_2.shape"
   ]
  },
  {
   "cell_type": "code",
   "execution_count": 40,
   "metadata": {},
   "outputs": [
    {
     "name": "stdout",
     "output_type": "stream",
     "text": [
      "Optimization terminated successfully.\n",
      "         Current function value: 0.175708\n",
      "         Iterations 9\n",
      "CPU times: user 29.6 s, sys: 1.39 s, total: 31 s\n",
      "Wall time: 5.18 s\n",
      "##################\n",
      "Combined Model with magic Val_AUC= 0.92473\n",
      "\n"
     ]
    }
   ],
   "source": [
    "logr_M2 = sm.Logit(y_LGBM, merged_oof_intercept_2)\n",
    "%time logr_M2 = logr_M2.fit(disp=1, method='newton')\n",
    "ensemble_preds = logr_M2.predict(merged_oof_intercept_2)\n",
    "ensemble_auc = roc_auc_score(y_LGBM, ensemble_preds)  \n",
    "print('##################')\n",
    "print('Combined Model with magic Val_AUC=',round(ensemble_auc,5))\n",
    "print()\n",
    "# Combined Model with magic Val_AUC= 0.92466\n",
    "# Combined Model with magic Val_AUC= 0.92468\n",
    "# Combined Model with magic Val_AUC= 0.92469\n",
    "# Combined Model with magic Val_AUC= 0.92478\n",
    "# Combined Model with magic Val_AUC= 0.92479"
   ]
  },
  {
   "cell_type": "code",
   "execution_count": 41,
   "metadata": {},
   "outputs": [
    {
     "data": {
      "image/png": "[encoded data removed]",
      "text/plain": [
       "<Figure size 432x288 with 1 Axes>"
      ]
     },
     "metadata": {},
     "output_type": "display_data"
    }
   ],
   "source": [
    "test_merged_predictions = np.append(test_predictions, test_predictions_LGBM, axis=1)\n",
    "test_merged_predictions_intercept = np.append(np.ones((200000,1)), test_merged_predictions, axis=1)\n",
    "test_merged_predictions_ensamble = logr_M2.predict(test_merged_predictions_intercept)\n",
    "_ = plt.hist(np.log(test_merged_predictions_ensamble/(1-test_merged_predictions_ensamble)), 50)"
   ]
  },
  {
   "cell_type": "markdown",
   "metadata": {},
   "source": [
    "# Submissions"
   ]
  },
  {
   "cell_type": "code",
   "execution_count": 48,
   "metadata": {},
   "outputs": [],
   "source": [
    "train_path = '../../datasets/santander_customer_transaction_prediction/train.csv'\n",
    "test_path = '../../datasets/santander_customer_transaction_prediction/test.csv'\n",
    "def save_submit_file(predictions, filename, message, test_filename=test_path, index_column='ID_code', target_column = 'target'):\n",
    "    df_test_submit = pd.read_csv(test_filename).set_index(index_column)\n",
    "    df_test_submit[target_column] = predictions\n",
    "    df_test_submit[[target_column]].to_csv(filename)\n",
    "    return \"kaggle competitions submit -c santander-customer-transaction-prediction -f {} -m '{}'\".format(filename, message)"
   ]
  },
  {
   "cell_type": "markdown",
   "metadata": {},
   "source": [
    "# Submit LGBM"
   ]
  },
  {
   "cell_type": "code",
   "execution_count": 49,
   "metadata": {},
   "outputs": [
    {
     "data": {
      "text/plain": [
       "\"kaggle competitions submit -c santander-customer-transaction-prediction -f submit_LGBM.csv -m 'test with magic'\""
      ]
     },
     "execution_count": 49,
     "metadata": {},
     "output_type": "execute_result"
    }
   ],
   "source": [
    "# 0.91850 0.92022\n",
    "save_submit_file(LGBM_test_predictions_ensamble, 'submit_LGBM.csv', 'test with magic')"
   ]
  },
  {
   "cell_type": "code",
   "execution_count": 50,
   "metadata": {},
   "outputs": [
    {
     "name": "stdout",
     "output_type": "stream",
     "text": [
      "100%|███████████████████████████████████████| 6.09M/6.09M [00:09<00:00, 709kB/s]\n",
      "Successfully submitted to Santander Customer Transaction Prediction"
     ]
    }
   ],
   "source": [
    "# ! kaggle competitions submit -c santander-customer-transaction-prediction -f submit_LGBM.csv -m 'test with magic'"
   ]
  },
  {
   "cell_type": "markdown",
   "metadata": {},
   "source": [
    "# Submit NN"
   ]
  },
  {
   "cell_type": "code",
   "execution_count": 55,
   "metadata": {},
   "outputs": [
    {
     "data": {
      "text/plain": [
       "\"kaggle competitions submit -c santander-customer-transaction-prediction -f submit_NN.csv -m 'test magic NN'\""
      ]
     },
     "execution_count": 55,
     "metadata": {},
     "output_type": "execute_result"
    }
   ],
   "source": [
    "# 0.91784 0.91753\n",
    "save_submit_file(test_predictions_ensamble, 'submit_NN.csv', 'test magic NN')"
   ]
  },
  {
   "cell_type": "code",
   "execution_count": 1,
   "metadata": {},
   "outputs": [
    {
     "name": "stdout",
     "output_type": "stream",
     "text": [
      "100%|███████████████████████████████████████| 6.16M/6.16M [00:07<00:00, 850kB/s]\n",
      "Successfully submitted to Santander Customer Transaction Prediction"
     ]
    }
   ],
   "source": [
    "# ! kaggle competitions submit -c santander-customer-transaction-prediction -f submit_NN.csv -m 'test magic NN'"
   ]
  },
  {
   "cell_type": "markdown",
   "metadata": {},
   "source": [
    "# Submit Merge #2"
   ]
  },
  {
   "cell_type": "code",
   "execution_count": 51,
   "metadata": {},
   "outputs": [
    {
     "data": {
      "text/plain": [
       "\"kaggle competitions submit -c santander-customer-transaction-prediction -f submit_LGBM_NN.csv -m 'test with magic and NN'\""
      ]
     },
     "execution_count": 51,
     "metadata": {},
     "output_type": "execute_result"
    }
   ],
   "source": [
    "# 0.92073 0.92125\n",
    "save_submit_file(test_merged_predictions_ensamble, 'submit_LGBM_NN.csv', 'test with magic and NN')"
   ]
  },
  {
   "cell_type": "code",
   "execution_count": 52,
   "metadata": {},
   "outputs": [
    {
     "name": "stdout",
     "output_type": "stream",
     "text": [
      "100%|███████████████████████████████████████| 6.11M/6.11M [00:15<00:00, 423kB/s]\n",
      "Successfully submitted to Santander Customer Transaction Prediction"
     ]
    }
   ],
   "source": [
    "# ! kaggle competitions submit -c santander-customer-transaction-prediction -f submit_LGBM_NN.csv -m 'test with magic and NN'"
   ]
  },
  {
   "cell_type": "code",
   "execution_count": null,
   "metadata": {},
   "outputs": [],
   "source": []
  }
 ],
 "metadata": {
  "kernelspec": {
   "display_name": "Python 3",
   "language": "python",
   "name": "python3"
  },
  "language_info": {
   "codemirror_mode": {
    "name": "ipython",
    "version": 3
   },
   "file_extension": ".py",
   "mimetype": "text/x-python",
   "name": "python",
   "nbconvert_exporter": "python",
   "pygments_lexer": "ipython3",
   "version": "3.6.8"
  }
 },
 "nbformat": 4,
 "nbformat_minor": 2
}
