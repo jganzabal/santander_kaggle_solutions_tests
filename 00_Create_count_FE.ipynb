{
 "cells": [
  {
   "cell_type": "code",
   "execution_count": 22,
   "metadata": {},
   "outputs": [],
   "source": [
    "import numpy as np\n",
    "import pandas as pd\n",
    "import gc, os\n",
    "\n",
    "import lightgbm as lgb\n",
    "from sklearn.metrics import roc_auc_score\n",
    "from sklearn.model_selection import StratifiedKFold\n",
    "from sklearn.preprocessing import StandardScaler\n",
    "\n",
    "from multiprocessing import cpu_count\n",
    "from tqdm import tqdm"
   ]
  },
  {
   "cell_type": "code",
   "execution_count": 23,
   "metadata": {},
   "outputs": [
    {
     "name": "stderr",
     "output_type": "stream",
     "text": [
      "100%|██████████| 200/200 [00:03<00:00, 54.96it/s]\n"
     ]
    }
   ],
   "source": [
    "# ===== fake samples =====\n",
    "te_ = pd.read_csv('../../datasets/santander_customer_transaction_prediction/test.csv.zip').drop(['ID_code'], axis=1).values\n",
    "\n",
    "unique_samples = []\n",
    "unique_count = np.zeros_like(te_)\n",
    "for feature in tqdm(range(te_.shape[1])):\n",
    "    _, index_, count_ = np.unique(te_[:, feature], return_counts=True, return_index=True)\n",
    "    unique_count[index_[count_ == 1], feature] += 1\n",
    "\n",
    "# Samples which have unique values are real the others are fake\n",
    "real_samples_indexes = np.argwhere(np.sum(unique_count, axis=1) > 0)[:, 0]\n",
    "synthetic_samples_indexes = np.argwhere(np.sum(unique_count, axis=1) == 0)[:, 0]\n"
   ]
  },
  {
   "cell_type": "code",
   "execution_count": 24,
   "metadata": {},
   "outputs": [],
   "source": [
    "SEED = np.random.randint(42)\n",
    "np.random.seed(SEED)\n",
    "\n",
    "var_len = 200 \n",
    "\n",
    "# =============================================================================\n",
    "# load\n",
    "# =============================================================================\n",
    "train = pd.read_csv(\"../../datasets/santander_customer_transaction_prediction/train.csv.zip\")\n",
    "test  = pd.read_csv(\"../../datasets/santander_customer_transaction_prediction/test.csv.zip\").drop(synthetic_samples_indexes)\n",
    "\n",
    "X_train = train.iloc[:, 2:].values\n",
    "y_train = train.target.values\n",
    "\n",
    "X_test = test.iloc[:, 1:].values\n",
    "\n",
    "X = np.concatenate([X_train, X_test], axis=0)\n",
    "# del X_train, X_test; gc.collect()"
   ]
  },
  {
   "cell_type": "code",
   "execution_count": 25,
   "metadata": {},
   "outputs": [
    {
     "name": "stderr",
     "output_type": "stream",
     "text": [
      "100%|██████████| 200/200 [00:39<00:00,  5.05it/s]\n",
      "100%|██████████| 200/200 [00:03<00:00, 54.40it/s]\n"
     ]
    }
   ],
   "source": [
    "# reverse_list = [0, 1, 2, 3, 4, 5, 6, 7, 8, 11, 15, 16, 18, 19, 22, 24, 25, 26,\n",
    "#                 27, 29, 32, 35, 37, 40, 41, 47, 48, 49, 51, 52, 53, 55, 60, 61,\n",
    "#                 62, 65, 66, 67, 69, 70, 71, 74, 78, 79, 82, 84, 89, 90, 91, 94,\n",
    "#                 95, 96, 97, 99, 103, 105, 106, 110, 111, 112, 118, 119, 125, 128,\n",
    "#                 130, 133, 134, 135, 137, 138, 140, 144, 145, 147, 151, 155, 157,\n",
    "#                 159, 161, 162, 163, 164, 167, 168, 170, 171, 173, 175, 176, 179,\n",
    "#                 180, 181, 184, 185, 187, 189, 190, 191, 195, 196, 199,\n",
    "                \n",
    "#                 ]\n",
    "\n",
    "# for j in reverse_list:\n",
    "#     X[:, j] *= -1\n",
    "\n",
    "\n",
    "# scaling\n",
    "scaler = StandardScaler()\n",
    "X = scaler.fit_transform(X)\n",
    "\n",
    "# count encoding\n",
    "X_cnt = np.zeros((len(X), var_len * 4))\n",
    "\n",
    "for j in tqdm(range(var_len)):\n",
    "    for i in range(1, 4):\n",
    "        x = np.round(X[:, j], i+1)\n",
    "        dic = pd.value_counts(x).to_dict()\n",
    "        X_cnt[:, i+j*4] = pd.Series(x).map(dic)\n",
    "    x = X[:, j]\n",
    "    dic = pd.value_counts(x).to_dict()\n",
    "    X_cnt[:, j*4] = pd.Series(x).map(dic)\n",
    "\n",
    "# raw + count feature\n",
    "X_raw = X.copy() # rename for readable\n",
    "del X; gc.collect()\n",
    "\n",
    "X = np.zeros((len(X_raw), var_len * 5))\n",
    "for j in tqdm(range(var_len)):\n",
    "    X[:, 5*j+1:5*j+5] = X_cnt[:, 4*j:4*j+4]\n",
    "    X[:, 5*j] = X_raw[:, j]\n",
    "\n",
    "# treat each var as same\n",
    "X_train_concat = np.concatenate([\n",
    "    np.concatenate([\n",
    "        X[:200000, 5*cnum:5*cnum+5], \n",
    "        np.ones((len(y_train), 1)).astype(\"int\")*cnum\n",
    "    ], axis=1) for cnum in range(var_len)], axis=0)\n",
    "y_train_concat = np.concatenate([y_train for cnum in range(var_len)], axis=0)"
   ]
  },
  {
   "cell_type": "code",
   "execution_count": 27,
   "metadata": {},
   "outputs": [
    {
     "data": {
      "text/plain": [
       "(40000000, 6)"
      ]
     },
     "execution_count": 27,
     "metadata": {},
     "output_type": "execute_result"
    }
   ],
   "source": [
    "X_train_concat.shape"
   ]
  },
  {
   "cell_type": "code",
   "execution_count": null,
   "metadata": {},
   "outputs": [],
   "source": []
  }
 ],
 "metadata": {
  "kernelspec": {
   "display_name": "Python 3",
   "language": "python",
   "name": "python3"
  },
  "language_info": {
   "codemirror_mode": {
    "name": "ipython",
    "version": 3
   },
   "file_extension": ".py",
   "mimetype": "text/x-python",
   "name": "python",
   "nbconvert_exporter": "python",
   "pygments_lexer": "ipython3",
   "version": "3.6.8"
  }
 },
 "nbformat": 4,
 "nbformat_minor": 2
}
