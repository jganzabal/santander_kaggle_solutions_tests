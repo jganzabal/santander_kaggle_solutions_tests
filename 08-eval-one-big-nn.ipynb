{
 "cells": [
  {
   "cell_type": "code",
   "execution_count": 1,
   "metadata": {},
   "outputs": [],
   "source": [
    "%load_ext autoreload\n",
    "%autoreload 2"
   ]
  },
  {
   "cell_type": "code",
   "execution_count": 2,
   "metadata": {},
   "outputs": [
    {
     "name": "stderr",
     "output_type": "stream",
     "text": [
      "Using TensorFlow backend.\n"
     ]
    }
   ],
   "source": [
    "from keras.models import Model, Sequential\n",
    "from keras.layers import Input, Dense, Concatenate, BatchNormalization, Activation, Conv1D, Flatten\n",
    "from keras.optimizers import Adam\n",
    "import pandas as pd\n",
    "import numpy as np\n",
    "from sklearn.metrics import roc_auc_score\n",
    "from keras.callbacks import EarlyStopping, ModelCheckpoint\n",
    "from keras.layers.advanced_activations import LeakyReLU, PReLU, ELU\n",
    "import tensorflow as tf\n",
    "from sklearn.model_selection import KFold, StratifiedKFold\n",
    "from CyclicLR import CyclicLR"
   ]
  },
  {
   "cell_type": "code",
   "execution_count": 3,
   "metadata": {},
   "outputs": [],
   "source": [
    "def auc(y_true, y_pred):\n",
    "    f1 = lambda: tf.constant(0, dtype=tf.float64)\n",
    "    f2 = lambda: tf.py_func(roc_auc_score, (y_true, y_pred), tf.double)\n",
    "    \n",
    "    r = tf.case([(tf.equal(tf.reduce_sum(y_true), tf.constant(0, dtype=tf.float32)), f1),\n",
    "                 (tf.equal(tf.reduce_sum(tf.subtract(tf.ones_like(y_true), y_true)), tf.constant(0, dtype=tf.float32)), f1)\n",
    "                ], default=f2)\n",
    "    return r"
   ]
  },
  {
   "cell_type": "code",
   "execution_count": 4,
   "metadata": {},
   "outputs": [],
   "source": [
    "df_train = pd.read_csv('train_with_counts.csv')\n",
    "df_test = pd.read_csv('test_with_counts.csv').drop(columns=['ID_code', 'target'])\n",
    "y = df_train['target'].values"
   ]
  },
  {
   "cell_type": "code",
   "execution_count": 5,
   "metadata": {},
   "outputs": [
    {
     "data": {
      "text/plain": [
       "(200000, 400)"
      ]
     },
     "execution_count": 5,
     "metadata": {},
     "output_type": "execute_result"
    }
   ],
   "source": [
    "df_test.shape"
   ]
  },
  {
   "cell_type": "code",
   "execution_count": 6,
   "metadata": {},
   "outputs": [],
   "source": [
    "df_train_X = df_train.drop(columns=['ID_code', 'target'])\n",
    "df_train_X_normalized = (df_train_X - df_train_X.mean(axis=0))/df_train_X.std(axis=0)\n",
    "df_test_X_normalized = (df_test - df_test.mean(axis=0))/df_test.std(axis=0)"
   ]
  },
  {
   "cell_type": "code",
   "execution_count": 7,
   "metadata": {},
   "outputs": [],
   "source": [
    "N_vars = 200\n",
    "\n",
    "def get_data(trn_idx, val_idx, N_vars = 200):\n",
    "    X_train = []\n",
    "    X_val = []\n",
    "    for i in range(N_vars):\n",
    "        X_train.append(df_train_X_normalized[[f'var_{i}', f'var_{i}_FE']].values[trn_idx])\n",
    "        X_val.append(df_train_X_normalized[[f'var_{i}', f'var_{i}_FE']].values[val_idx])\n",
    "    return X_train, X_val\n",
    "\n",
    "def get_test_data(N_vars = 200):\n",
    "    X_test = []\n",
    "    for i in range(N_vars):\n",
    "        X_test.append(df_test_X_normalized[[f'var_{i}', f'var_{i}_FE']].values)\n",
    "    return X_test"
   ]
  },
  {
   "cell_type": "code",
   "execution_count": null,
   "metadata": {},
   "outputs": [],
   "source": []
  },
  {
   "cell_type": "code",
   "execution_count": 8,
   "metadata": {},
   "outputs": [],
   "source": [
    "def get_model():\n",
    "    denseOuts = []\n",
    "    inputs = []\n",
    "    for i in range(N_vars):\n",
    "        inp = Input((2,))\n",
    "        inputs.append(inp)\n",
    "        dense_out = Dense(1000)(inp)\n",
    "        # dense_1000_out = Activation('relu')(dense_out)\n",
    "        # dense_1000_out = LeakyReLU()(dense_out)\n",
    "        denseOuts.append(dense_out)\n",
    "    x = Concatenate()(denseOuts)\n",
    "    # x = BatchNormalization()(x)\n",
    "    x = Activation('relu')(x)\n",
    "    out = Dense(1, activation='sigmoid')(x)\n",
    "    model = Model(inputs, out)\n",
    "    return model"
   ]
  },
  {
   "cell_type": "code",
   "execution_count": 9,
   "metadata": {},
   "outputs": [],
   "source": [
    "# leaky\n",
    "# def get_model():\n",
    "#     denseOuts = []\n",
    "#     inputs = []\n",
    "#     for i in range(N_vars):\n",
    "#         inp = Input((2,))\n",
    "#         inputs.append(inp)\n",
    "#         dense_out = Dense(1000)(inp)\n",
    "#         # dense_1000_out = Activation('relu')(dense_out)\n",
    "#         # dense_1000_out = LeakyReLU()(dense_out)\n",
    "#         denseOuts.append(dense_out)\n",
    "#     x = Concatenate()(denseOuts)\n",
    "#     # x = BatchNormalization()(x)\n",
    "#     x = LeakyReLU()(x)\n",
    "#     out = Dense(1, activation='sigmoid')(x)\n",
    "#     model = Model(inputs, out)\n",
    "#     return model"
   ]
  },
  {
   "cell_type": "code",
   "execution_count": 10,
   "metadata": {},
   "outputs": [],
   "source": [
    "# def get_model():\n",
    "#     model = Sequential()\n",
    "#     model.add(Conv1D(200, kernel_size=2, strides=2, padding='valid', activation='relu', input_shape=(400, 1)))\n",
    "#     # model.add(Dense(1, activation='relu'))\n",
    "#     model.add(Flatten())\n",
    "#     model.add(Dense(1, activation='sigmoid'))\n",
    "#     return model"
   ]
  },
  {
   "cell_type": "code",
   "execution_count": null,
   "metadata": {},
   "outputs": [
    {
     "name": "stdout",
     "output_type": "stream",
     "text": [
      "###############################################\n",
      "##################Fold 0#######################\n",
      "###############################################\n",
      "40001/40001 [==============================] - 9s 230us/step\n",
      "0.9187351021773377\n",
      "200000/200000 [==============================] - 43s 217us/step\n",
      "###############################################\n",
      "##################Fold 1#######################\n",
      "###############################################\n",
      "40001/40001 [==============================] - 9s 217us/step\n",
      "0.9136588533942942\n",
      " 98304/200000 [=============>................] - ETA: 22s"
     ]
    }
   ],
   "source": [
    "skf = StratifiedKFold(n_splits=5, shuffle=True, random_state=42)\n",
    "full_val_preds = np.zeros((len(df_train_X_normalized), 1))\n",
    "model = get_model()\n",
    "test_predictions = 0\n",
    "for fold, (trn_idx, val_idx) in enumerate(skf.split(df_train_X_normalized, y)):\n",
    "    print('###############################################')\n",
    "    print(f'##################Fold {fold}#######################')\n",
    "    print('###############################################')\n",
    "    X_train, X_val = get_data(trn_idx, val_idx)\n",
    "    model.load_weights(f'big_NN_fold_{fold}_lr_5e-05.hdf5')\n",
    "    full_val_preds[val_idx] = model.predict(X_val, verbose=1)\n",
    "    print(roc_auc_score(y[val_idx], full_val_preds[val_idx]))\n",
    "    X_test = get_test_data()\n",
    "    test_predictions = test_predictions + model.predict(X_test, verbose=1)/5"
   ]
  },
  {
   "cell_type": "raw",
   "metadata": {},
   "source": [
    "###############################################\n",
    "##################Fold 0#######################\n",
    "###############################################\n",
    "40001/40001 [==============================] - 9s 222us/step\n",
    "0.9187351021773377\n",
    "200000/200000 [==============================] - 43s 215us/step\n",
    "###############################################\n",
    "##################Fold 1#######################\n",
    "###############################################\n",
    "40001/40001 [==============================] - 9s 215us/step\n",
    "0.9136588533942942\n",
    "200000/200000 [==============================] - 43s 215us/step\n",
    "###############################################\n",
    "##################Fold 2#######################\n",
    "###############################################\n",
    "40000/40000 [==============================] - 9s 214us/step\n",
    "0.9218483112508608\n",
    "200000/200000 [==============================] - 43s 215us/step\n",
    "###############################################\n",
    "##################Fold 3#######################\n",
    "###############################################\n",
    "39999/39999 [==============================] - 9s 215us/step\n",
    "0.9185393975614166\n",
    "200000/200000 [==============================] - 43s 215us/step\n",
    "###############################################\n",
    "##################Fold 4#######################\n",
    "###############################################\n",
    "39999/39999 [==============================] - 9s 215us/step\n",
    "0.9159563121587136\n",
    "200000/200000 [==============================] - 43s 215us/step"
   ]
  },
  {
   "cell_type": "code",
   "execution_count": 11,
   "metadata": {},
   "outputs": [
    {
     "data": {
      "text/plain": [
       "0.9177075727563082"
      ]
     },
     "execution_count": 11,
     "metadata": {},
     "output_type": "execute_result"
    }
   ],
   "source": [
    "# Full Roc auc\n",
    "roc_auc_score(y, full_val_preds)\n",
    "# big_NN_fold relu 0.9177075727563082\n",
    "# big_NN_2_fold leaky_relu"
   ]
  },
  {
   "cell_type": "code",
   "execution_count": 30,
   "metadata": {},
   "outputs": [],
   "source": [
    "from matplotlib import pyplot as plt"
   ]
  },
  {
   "cell_type": "code",
   "execution_count": 32,
   "metadata": {},
   "outputs": [
    {
     "data": {
      "image/png": "[encoded data removed]",
      "text/plain": [
       "<Figure size 432x288 with 1 Axes>"
      ]
     },
     "metadata": {},
     "output_type": "display_data"
    }
   ],
   "source": [
    "_ = plt.hist(np.log(test_predictions/(1-test_predictions)), 50)"
   ]
  },
  {
   "cell_type": "code",
   "execution_count": 33,
   "metadata": {},
   "outputs": [],
   "source": [
    "train_path = '../../datasets/santander_customer_transaction_prediction/train.csv'\n",
    "test_path = '../../datasets/santander_customer_transaction_prediction/test.csv'\n",
    "def save_submit_file(predictions, filename, message, test_filename=test_path, index_column='ID_code', target_column = 'target'):\n",
    "    df_test_submit = pd.read_csv(test_filename).set_index(index_column)\n",
    "    df_test_submit[target_column] = predictions\n",
    "    df_test_submit[[target_column]].to_csv(filename)\n",
    "    return \"kaggle competitions submit -c santander-customer-transaction-prediction -f {} -m '{}'\".format(filename, message)"
   ]
  },
  {
   "cell_type": "code",
   "execution_count": 34,
   "metadata": {},
   "outputs": [
    {
     "data": {
      "text/plain": [
       "\"kaggle competitions submit -c santander-customer-transaction-prediction -f submit_Big_NN.csv -m 'big NN with magic'\""
      ]
     },
     "execution_count": 34,
     "metadata": {},
     "output_type": "execute_result"
    }
   ],
   "source": [
    "save_submit_file(test_predictions, 'submit_Big_NN.csv', 'big NN with magic')"
   ]
  },
  {
   "cell_type": "code",
   "execution_count": 35,
   "metadata": {},
   "outputs": [
    {
     "name": "stdout",
     "output_type": "stream",
     "text": [
      "100%|███████████████████████████████████████| 4.44M/4.44M [00:06<00:00, 709kB/s]\n",
      "Successfully submitted to Santander Customer Transaction Prediction"
     ]
    }
   ],
   "source": [
    "! kaggle competitions submit -c santander-customer-transaction-prediction -f submit_Big_NN.csv -m 'big NN with magic'"
   ]
  },
  {
   "cell_type": "code",
   "execution_count": null,
   "metadata": {},
   "outputs": [],
   "source": []
  }
 ],
 "metadata": {
  "kernelspec": {
   "display_name": "Python 3",
   "language": "python",
   "name": "python3"
  },
  "language_info": {
   "codemirror_mode": {
    "name": "ipython",
    "version": 3
   },
   "file_extension": ".py",
   "mimetype": "text/x-python",
   "name": "python",
   "nbconvert_exporter": "python",
   "pygments_lexer": "ipython3",
   "version": "3.6.8"
  }
 },
 "nbformat": 4,
 "nbformat_minor": 2
}
